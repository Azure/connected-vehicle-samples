{
  "cells": [
    {
      "cell_type": "markdown",
      "source": [
        "#REPLACE storage account with <storageAccountName>"
      ],
      "metadata": {
        "nteract": {
          "transient": {
            "deleting": false
          }
        }
      }
    },
    {
      "cell_type": "markdown",
      "source": [
        "# Send Rate Stream Data to Bronze Delta Table\n",
        "To run this notebook, import it into Azure Synapse and attach it to an Apache Spark Pool.      \n",
        "Choose the \"Small\" Node Size, and choose \"3\" as the Number of Nodes."
      ],
      "metadata": {
        "application/vnd.databricks.v1+cell": {
          "title": "",
          "showTitle": false,
          "inputWidgets": {},
          "nuid": "4254ba16-ee7a-402c-85e2-9914ecf690cf"
        }
      }
    },
    {
      "cell_type": "code",
      "source": [
        "%%spark\n",
        "import org.apache.spark.sql.functions._\n",
        "import org.apache.spark.sql.types._"
      ],
      "outputs": [],
      "execution_count": null,
      "metadata": {
        "application/vnd.databricks.v1+cell": {
          "title": "Imports",
          "showTitle": false,
          "inputWidgets": {},
          "nuid": "c3e67525-68c1-4286-9563-c5fd78978767"
        },
        "microsoft": {
          "language": "scala"
        }
      }
    },
    {
      "cell_type": "markdown",
      "source": [
        "## Configure the Storage Account\n",
        "Be sure to replace `<storageAccountName>` with the name of your storage account."
      ],
      "metadata": {
        "application/vnd.databricks.v1+cell": {
          "title": "",
          "showTitle": false,
          "inputWidgets": {},
          "nuid": "7355ac27-b243-44e1-8a2d-36b26bae8b80"
        }
      }
    },
    {
      "cell_type": "code",
      "source": [
        "%%spark\n",
        "val storageAccountName = \"<storageAccountName>\"\n",
        "val bronzeDataLocation: String = \"abfss://datalake@\"+storageAccountName+\".dfs.core.windows.net/bronzeSynapse\"  "
      ],
      "outputs": [],
      "execution_count": null,
      "metadata": {
        "application/vnd.databricks.v1+cell": {
          "title": "Configure Storage Account",
          "showTitle": false,
          "inputWidgets": {},
          "nuid": "8b8e3862-8994-4903-aac9-d9203f10e94b"
        },
        "microsoft": {
          "language": "scala"
        }
      }
    },
    {
      "cell_type": "markdown",
      "source": [
        "## Choose a Topic\n",
        "Choose a topic by uncommenting the line of code for the desired topic. Comment out the line of code for the unwanted topic.     \n",
        "If you would like to have data with each topic, then please run this Notebook with one topic, then rerun with the other topic to generate data for each topic."
      ],
      "metadata": {
        "application/vnd.databricks.v1+cell": {
          "title": "",
          "showTitle": false,
          "inputWidgets": {},
          "nuid": "5e8a91a8-922a-4774-acd2-bdca3f44fe81"
        }
      }
    },
    {
      "cell_type": "code",
      "source": [
        "%%spark\n",
        "var topic = \"VAUsage\"\n",
        "// var topic = \"Telemetry\""
      ],
      "outputs": [],
      "execution_count": null,
      "metadata": {
        "application/vnd.databricks.v1+cell": {
          "title": "",
          "showTitle": false,
          "inputWidgets": {},
          "nuid": "1ef8c7bb-49e4-4abd-b2a9-53a40bc2b093"
        },
        "microsoft": {
          "language": "scala"
        }
      }
    },
    {
      "cell_type": "markdown",
      "source": [
        "## Create the Streaming DataFrame\n",
        "The Streaming Dataframe generates data using a Rate Streaming Source. One row is generated every second."
      ],
      "metadata": {
        "application/vnd.databricks.v1+cell": {
          "title": "",
          "showTitle": false,
          "inputWidgets": {},
          "nuid": "d71b18e5-d6de-481d-b094-add67071b5f6"
        }
      }
    },
    {
      "cell_type": "code",
      "source": [
        "%%spark\n",
        "var df = spark.readStream.format(\"rate\").option(\"rowsPerSecond\", 1).load"
      ],
      "outputs": [],
      "execution_count": null,
      "metadata": {
        "application/vnd.databricks.v1+cell": {
          "title": "Create Streaming Dataframe",
          "showTitle": false,
          "inputWidgets": {},
          "nuid": "c083ff09-21da-43ae-bb81-b141bafd7ed2"
        },
        "microsoft": {
          "language": "scala"
        }
      }
    },
    {
      "cell_type": "markdown",
      "source": [
        "## Configure the Schema\n",
        "The schema is configured to match the schema of the Bronze Delta Table."
      ],
      "metadata": {
        "application/vnd.databricks.v1+cell": {
          "title": "",
          "showTitle": false,
          "inputWidgets": {},
          "nuid": "40439a0a-e2e7-4653-b074-e7a70f8d96b9"
        }
      }
    },
    {
      "cell_type": "code",
      "source": [
        "%%spark\n",
        "df = df.withColumn(\"ProcessedTimestamp\", col(\"timestamp\"))\n",
        "df = df.withColumn(\"ProcessedDate\", to_date(col(\"timestamp\")))\n",
        "df = df.withColumn(\"ProcessedHour\", format_string(\"%2d\", hour(col(\"timestamp\"))))\n",
        "df = df.withColumn(\"VehicleId\", (col(\"value\") % 10 + 1).cast(\"String\"))\n",
        "df = df.withColumn(\"UserId\", (col(\"value\") % 10 + 1).cast(\"String\"))\n",
        "\n",
        "if (topic == \"VAUsage\") { // populate \"Properties.topic\" and \"Body\" column\n",
        "  df = df.withColumn(\"Properties\", typedLit(Map(\"topic\" -> \"VAUsage\")))\n",
        "\n",
        "  val vausageBodyData: List[String] = List(\"\\\"VolumeUp\\\"\", \"\\\"VolumeDown\\\"\")\n",
        "  def getBody(index: Int): String = { vausageBodyData(index) }\n",
        "  \n",
        "  df = df.withColumn(\"tempAction\",\n",
        "    when(col(\"value\") % 2 === 0, getBody(0))\n",
        "    .otherwise(getBody(1))\n",
        "  )\n",
        "  df = df.withColumn(\"Body\", concat(\n",
        "    lit(\"{ \"), \n",
        "    lit(\"\\\"Object\\\":\\\"SteeringWheelVolume\\\", \"), \n",
        "    lit(\"\\\"Action\\\":\"), \n",
        "    col(\"tempAction\"), \n",
        "    lit(\" }\")\n",
        "  ))\n",
        "  df = df.withColumn(\"Body\", col(\"Body\").cast(\"Binary\"))\n",
        "\n",
        "  df = df.drop(\"tempAction\")\n",
        "}\n",
        "\n",
        "\n",
        "if (topic == \"Telemetry\") { // populate \"Properties.topic\" and \"Body\" column\n",
        "  df = df.withColumn(\"Properties\", typedLit(Map(\"topic\" -> \"Telemetry\")))\n",
        "\n",
        "  // generate random values using col(\"value\")\n",
        "  df = df.withColumn(\"tempEngineTemp\", (col(\"value\") % 2 + 200).cast(\"String\"))\n",
        "  df = df.withColumn(\"tempBatteryVoltage\", (col(\"value\") % 20 / 10 + 16.0).cast(\"String\"))\n",
        "  \n",
        "  df = df.withColumn(\"tempBody\", concat(\n",
        "      lit(\"\\\"VehicleId\\\":\"), col(\"VehicleId\"), lit(\", \"), \n",
        "      lit(\"\\\"EngineTemp\\\":\"), col(\"tempEngineTemp\"), lit(\", \"), \n",
        "      lit(\"\\\"BatteryVoltage\\\":\"), col(\"tempBatteryVoltage\"), lit(\", \"), \n",
        "      lit(\"\\\"DaysSinceLastServicing\\\": 360\"), lit(\", \"),\n",
        "      lit(\"\\\"Mileage\\\": 90000\")\n",
        "      ))\n",
        "  \n",
        "  df = df.withColumn(\"tempBody\", concat(lit(\"{ \"), col(\"tempBody\"), lit(\" }\"))) \n",
        "  df = df.withColumn(\"Body\", col(\"tempBody\").cast(\"Binary\"))\n",
        "\n",
        "  df = df.drop(\"tempEngineTemp\")\n",
        "  df = df.drop(\"tempBatteryVoltage\")\n",
        "  df = df.drop(\"tempBody\")\n",
        "}\n",
        "\n",
        "\n",
        "// dropping columns that are no longer needed\n",
        "df = df.drop(\"timestamp\").drop(\"value\") \n",
        "\n",
        "df.printSchema()"
      ],
      "outputs": [],
      "execution_count": null,
      "metadata": {
        "application/vnd.databricks.v1+cell": {
          "title": "Configure Schema",
          "showTitle": false,
          "inputWidgets": {},
          "nuid": "adf541e6-08eb-4c14-88b6-d4716b11d660"
        },
        "microsoft": {
          "language": "scala"
        }
      }
    },
    {
      "cell_type": "markdown",
      "source": [
        "## Write Data to Bronze Delta Table"
      ],
      "metadata": {
        "application/vnd.databricks.v1+cell": {
          "title": "",
          "showTitle": false,
          "inputWidgets": {},
          "nuid": "b82c76e3-2f3e-4aa5-bf95-8f5af859a98f"
        }
      }
    },
    {
      "cell_type": "code",
      "source": [
        "%%spark\n",
        "val bronzeQuery = df.writeStream.format(\"delta\").\n",
        "outputMode(\"append\").\n",
        "option(\"checkpointLocation\", bronzeDataLocation + \"/checkpoint\").\n",
        "partitionBy(\"ProcessedDate\", \"ProcessedHour\").\n",
        "start(bronzeDataLocation)"
      ],
      "outputs": [],
      "execution_count": null,
      "metadata": {
        "microsoft": {
          "language": "scala"
        }
      }
    },
    {
      "cell_type": "markdown",
      "source": [
        "Run the following cell when you would like to stop generating data."
      ],
      "metadata": {}
    },
    {
      "cell_type": "code",
      "source": [
        "%%spark\n",
        "bronzeQuery.stop()"
      ],
      "outputs": [],
      "execution_count": null,
      "metadata": {
        "microsoft": {
          "language": "scala"
        }
      }
    },
    {
      "cell_type": "markdown",
      "source": [
        "## View the Data"
      ],
      "metadata": {
        "application/vnd.databricks.v1+cell": {
          "title": "",
          "showTitle": false,
          "inputWidgets": {},
          "nuid": "663eef02-3268-4e70-bde9-c06a539a59f5"
        }
      }
    },
    {
      "cell_type": "code",
      "source": [
        "%%spark \n",
        "val bronzeViewDF = spark.read.format(\"delta\").load(bronzeDataLocation)\n",
        "bronzeViewDF.orderBy(col(\"ProcessedTimestamp\").desc).show()"
      ],
      "outputs": [],
      "execution_count": null,
      "metadata": {
        "microsoft": {
          "language": "scala"
        }
      }
    },
    {
      "cell_type": "code",
      "source": [
        "%%spark\n",
        "bronzeViewDF.printSchema()"
      ],
      "outputs": [],
      "execution_count": null,
      "metadata": {
        "microsoft": {
          "language": "scala"
        }
      }
    },
    {
      "cell_type": "code",
      "source": [
        "%%spark\n",
        "display(bronzeViewDF.orderBy(col(\"ProcessedTimestamp\").desc))"
      ],
      "outputs": [],
      "execution_count": null,
      "metadata": {
        "diagram": {
          "activateDiagramType": 1,
          "chartConfig": {
            "category": "bar",
            "keys": [
              "ProcessedDate"
            ],
            "values": [
              "ProcessedTimestamp"
            ],
            "yLabel": "ProcessedTimestamp",
            "xLabel": "ProcessedDate",
            "aggregation": "SUM",
            "aggByBackend": false
          },
          "aggData": "{\"ProcessedTimestamp\":{\"2021-07-26\":0}}",
          "isSummary": false,
          "previewData": {
            "filter": null
          },
          "isSql": false
        },
        "microsoft": {
          "language": "scala"
        },
        "collapsed": false
      }
    },
    {
      "cell_type": "code",
      "source": [],
      "outputs": [],
      "execution_count": null,
      "metadata": {
        "collapsed": true,
        "jupyter": {
          "source_hidden": false,
          "outputs_hidden": false
        },
        "nteract": {
          "transient": {
            "deleting": false
          }
        }
      }
    }
  ],
  "metadata": {
    "language_info": {
      "name": "scala"
    },
    "kernelspec": {
      "name": "synapse_spark",
      "language": "Scala",
      "display_name": "Synapse Spark"
    },
    "kernel_info": {
      "name": "synapse_spark"
    },
    "save_output": true,
    "synapse_widget": {
      "version": "0.1",
      "state": {}
    }
  },
  "nbformat": 4,
  "nbformat_minor": 2
}