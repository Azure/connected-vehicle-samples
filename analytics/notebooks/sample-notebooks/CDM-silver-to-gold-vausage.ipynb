{
  "nbformat": 4,
  "nbformat_minor": 2,
  "cells": [
    {
      "cell_type": "markdown",
      "metadata": {
        "application/vnd.databricks.v1+cell": {
          "title": "",
          "showTitle": false,
          "inputWidgets": {},
          "nuid": "e0a5598a-993a-4823-bd0a-1d25bd63bdc6"
        }
      },
      "source": [
        "# Read Data from Silver VAUsage Table and Write to Gold VAUsage Action Counts Table\n",
        "To run this notebook, import it into Azure Synapse and attach it to an Apache Spark Pool.\n",
        "When creating the Apache Spark Pool, choose \"Small\" as the Node Size. Choose the option to disable autoscaling. For the number of nodes, choose the lowest number, 3.\n",
        "Be sure to run the \"rate-streaming-to-bronze\" Notebook and \"bronze-to-silver-vausage\" Notebook beforehand.\n",
        ""
      ]
    },
    {
      "cell_type": "code",
      "execution_count": null,
      "outputs": [],
      "metadata": {
        "application/vnd.databricks.v1+cell": {
          "title": "",
          "showTitle": false,
          "inputWidgets": {},
          "nuid": "9bc8e1a2-7a06-4c96-b12e-91f2b8ab9628"
        },
        "microsoft": {
          "language": "scala"
        }
      },
      "source": [
        "%%spark\n",
        "import org.apache.spark.sql.functions._\n",
        "import org.apache.spark.sql.types._\n",
        "import org.apache.spark.sql.SaveMode"
      ]
    },
    {
      "cell_type": "markdown",
      "metadata": {
        "application/vnd.databricks.v1+cell": {
          "title": "",
          "showTitle": false,
          "inputWidgets": {},
          "nuid": "4aff32a6-92ce-4913-aa3e-0f636ff6eb70"
        }
      },
      "source": [
        "## Configure the Storage Account (to read from)\n",
        "Replace the value `<storageAccountName>` with the name of the storage account where the Silver Telemetry Table data is stored."
      ]
    },
    {
      "cell_type": "code",
      "execution_count": null,
      "outputs": [],
      "metadata": {
        "application/vnd.databricks.v1+cell": {
          "title": "",
          "showTitle": false,
          "inputWidgets": {},
          "nuid": "ac8de88e-4cbc-419f-a049-c1adb2017c74"
        },
        "microsoft": {
          "language": "scala"
        }
      },
      "source": [
        "%%spark\n",
        "val storageAccountName = \"<storageAccountName>\"\n",
        "val silverDataLocation: String = \"abfss://datalake@\"+storageAccountName+\".dfs.core.windows.net/silverSynapse/VAUsage\"\n",
        "val goldDataLocation : String = \"abfss://datalake@\"+storageAccountName+\".dfs.core.windows.net/goldSynapseCDM/VAUsageActionCounts\"  "
      ]
    },
    {
      "cell_type": "markdown",
      "metadata": {},
      "source": [
        "## Prepare to Use CDM\n",
        "If this Notebook is being run for the first time (i.e. inside the \"GoldSynapseCDM/VAUsageActionCounts\" folder in the storage account there is no 'default.manifest.cdm.json' file or 'GoldVAUsage' folder), then set the value of \"entitiesExist\" to 'false'.\n",
        "\n",
        "If this is not the first time the Notebook is being run with this storage account, set to 'true'."
      ]
    },
    {
      "cell_type": "code",
      "execution_count": null,
      "outputs": [],
      "metadata": {
        "microsoft": {
          "language": "scala"
        }
      },
      "source": [
        "%%spark\n",
        "var entitiesExist : Boolean = false // change to 'true' if you have run the Notebook before"
      ]
    },
    {
      "cell_type": "markdown",
      "metadata": {
        "application/vnd.databricks.v1+cell": {
          "title": "",
          "showTitle": false,
          "inputWidgets": {},
          "nuid": "31a46701-1047-43bc-8a49-792b4d996645"
        }
      },
      "source": [
        "## Read the Data\n",
        "Here the data is read from the `silverDataLocation` specified in the previous cell, which is configured using the value inputted for `storageAccount`."
      ]
    },
    {
      "cell_type": "code",
      "execution_count": null,
      "outputs": [],
      "metadata": {
        "application/vnd.databricks.v1+cell": {
          "title": "",
          "showTitle": false,
          "inputWidgets": {},
          "nuid": "020ebe55-5428-47a5-a425-54f75a77de92"
        },
        "microsoft": {
          "language": "scala"
        }
      },
      "source": [
        "%%spark\n",
        "var silverDF = spark.read.format(\"delta\").load(silverDataLocation)"
      ]
    },
    {
      "cell_type": "markdown",
      "metadata": {
        "application/vnd.databricks.v1+cell": {
          "title": "",
          "showTitle": false,
          "inputWidgets": {},
          "nuid": "a9f2b181-0ec6-4828-ba6a-4d7db9e12cf6"
        }
      },
      "source": [
        "## View the Data from the Silver VAUsage Table\n",
        "Run this cell to see 10 rows from the Silver VAUsage Table, ordered in descending order by *ProcessedTimestamp*.\n",
        "Change the value of `numRows` to however many number of rows you would like to be displayed."
      ]
    },
    {
      "cell_type": "code",
      "execution_count": null,
      "outputs": [],
      "metadata": {
        "application/vnd.databricks.v1+cell": {
          "title": "",
          "showTitle": false,
          "inputWidgets": {},
          "nuid": "c3a5a8b9-7ba2-4c97-916c-803f3e6ab87c"
        },
        "microsoft": {
          "language": "scala"
        }
      },
      "source": [
        "%%spark\n",
        "silverDF.orderBy(col(\"ProcessedTimestamp\").desc).show(numRows = 10)"
      ]
    },
    {
      "cell_type": "code",
      "execution_count": null,
      "outputs": [],
      "metadata": {
        "microsoft": {
          "language": "scala"
        }
      },
      "source": [
        "%%spark\n",
        "silverDF = silverDF.drop(\"processedTime\")"
      ]
    },
    {
      "cell_type": "markdown",
      "metadata": {
        "application/vnd.databricks.v1+cell": {
          "title": "",
          "showTitle": false,
          "inputWidgets": {},
          "nuid": "6eab480b-5ce5-4af0-97c7-79d5eaf1b7b4"
        }
      },
      "source": [
        "Run the following cell to get a better look at the Silver VAUsage Delta Table data schema."
      ]
    },
    {
      "cell_type": "code",
      "execution_count": null,
      "outputs": [],
      "metadata": {
        "application/vnd.databricks.v1+cell": {
          "title": "",
          "showTitle": false,
          "inputWidgets": {},
          "nuid": "5364ccfc-cd36-40ac-888c-5d6f8c132905"
        },
        "microsoft": {
          "language": "scala"
        }
      },
      "source": [
        "%%spark\n",
        "silverDF.printSchema()"
      ]
    },
    {
      "cell_type": "markdown",
      "metadata": {
        "application/vnd.databricks.v1+cell": {
          "title": "",
          "showTitle": false,
          "inputWidgets": {},
          "nuid": "5a733a3e-606e-41a2-81e9-76ee10c32994"
        }
      },
      "source": [
        "## Configure the Schema of the Data\n",
        "The schema of the Dataframe is configured to match the schema of the Gold VAUSage Action Counts Table."
      ]
    },
    {
      "cell_type": "code",
      "execution_count": null,
      "outputs": [],
      "metadata": {
        "application/vnd.databricks.v1+cell": {
          "title": "",
          "showTitle": false,
          "inputWidgets": {},
          "nuid": "72caa6fb-dc14-48da-b693-cfcac8170af2"
        },
        "microsoft": {
          "language": "scala"
        }
      },
      "source": [
        "%%spark\n",
        "var goldDF = silverDF.withWatermark(\"ProcessedTimestamp\", \"10 second\").groupBy(\n",
        "    window(col(\"ProcessedTimestamp\"), \"10 seconds\", \"10 second\"),\n",
        "    col(\"Object\"),\n",
        "    col(\"Action\")\n",
        "  ).count().withColumn(\"WindowStartDate\", to_date(col(\"window\").getItem(\"start\")))\n",
        "\n",
        "goldDF.printSchema()"
      ]
    },
    {
      "cell_type": "markdown",
      "metadata": {
        "application/vnd.databricks.v1+cell": {
          "title": "",
          "showTitle": false,
          "inputWidgets": {},
          "nuid": "548a6c52-9503-40cd-8ce5-c58aec9a080c"
        }
      },
      "source": [
        "## Write Data to Gold VAUSage Action Counts Table in the CDM Format"
      ]
    },
    {
      "cell_type": "code",
      "execution_count": null,
      "outputs": [],
      "metadata": {
        "microsoft": {
          "language": "scala"
        }
      },
      "source": [
        "%%spark\n",
        "val CDMStorageAccount : String = storageAccountName + \".dfs.core.windows.net\" \n",
        "val manifestPath : String = \"datalake/goldSynapseCDM/VAUsageActionCounts/default.manifest.cdm.json\""
      ]
    },
    {
      "cell_type": "markdown",
      "metadata": {},
      "source": [
        "## Writing for the First Time\n",
        "Run this cell if the CDM manifest and entities have not yet been created (if you are running this Notebook for the first time)."
      ]
    },
    {
      "cell_type": "code",
      "execution_count": null,
      "outputs": [],
      "metadata": {
        "application/vnd.databricks.v1+cell": {
          "title": "",
          "showTitle": false,
          "inputWidgets": {},
          "nuid": "822c9e8e-0ba3-4ec9-81d8-98a36802c03b"
        },
        "microsoft": {
          "language": "scala"
        }
      },
      "source": [
        "%%spark\n",
        "if (!entitiesExist) { \n",
        "    goldDF.write.format(\"com.microsoft.cdm\").\n",
        "    option(\"storage\", CDMStorageAccount).\n",
        "    option(\"manifestPath\", manifestPath).\n",
        "    option(\"entity\", \"GoldVAUsage\").\n",
        "    option(\"format\", \"parquet\").\n",
        "    save()\n",
        "}"
      ]
    },
    {
      "cell_type": "markdown",
      "metadata": {},
      "source": [
        "## CDM Manifest and Entity Already Created\n",
        "Run this cell if you have run the Notebook before, and already have a manifest and entity inside your storage account.\n",
        "\n",
        "The manifest (default.manifest.cdm.json) and entity (GoldVAUsage) can be found in your storage account, inside the \"datalake\" container, and the \"goldSynapseCDM/VAUsageActionCounts\" folder.\n",
        ""
      ]
    },
    {
      "cell_type": "code",
      "execution_count": null,
      "outputs": [],
      "metadata": {
        "microsoft": {
          "language": "scala"
        }
      },
      "source": [
        "%%spark\n",
        "if (entitiesExist) { \n",
        "    goldDF.write.format(\"com.microsoft.cdm\").\n",
        "    option(\"storage\", CDMStorageAccount).\n",
        "    option(\"manifestPath\", manifestPath).\n",
        "    option(\"entity\", \"GoldVAUsage\").\n",
        "    mode(SaveMode.Append).\n",
        "    option(\"format\", \"parquet\").\n",
        "    save()\n",
        "}"
      ]
    },
    {
      "cell_type": "markdown",
      "metadata": {
        "application/vnd.databricks.v1+cell": {
          "title": "",
          "showTitle": false,
          "inputWidgets": {},
          "nuid": "b0abcb12-18c8-4624-99a7-a72e8cf06bff"
        }
      },
      "source": [
        "## View the Data"
      ]
    },
    {
      "cell_type": "code",
      "execution_count": null,
      "outputs": [],
      "metadata": {
        "microsoft": {
          "language": "scala"
        }
      },
      "source": [
        "%%spark\n",
        "var goldReadDF = spark.read.format(\"com.microsoft.cdm\").\n",
        "option(\"storage\", CDMStorageAccount).\n",
        "option(\"manifestPath\", manifestPath).\n",
        "option(\"entity\", \"GoldVAUsage\").\n",
        "load()"
      ]
    },
    {
      "cell_type": "code",
      "execution_count": null,
      "outputs": [],
      "metadata": {
        "microsoft": {
          "language": "scala"
        }
      },
      "source": [
        "%%spark\n",
        "goldReadDF.orderBy(col(\"window.start\").desc).show()"
      ]
    },
    {
      "cell_type": "code",
      "execution_count": null,
      "outputs": [],
      "metadata": {
        "application/vnd.databricks.v1+cell": {
          "title": "",
          "showTitle": false,
          "inputWidgets": {},
          "nuid": "20ff21c0-5e37-4535-898c-a044738563e7"
        },
        "microsoft": {
          "language": "scala"
        }
      },
      "source": [
        "%%spark\n",
        "goldReadDF.printSchema()"
      ]
    },
    {
      "cell_type": "code",
      "execution_count": null,
      "outputs": [],
      "metadata": {
        "jupyter": {
          "source_hidden": false,
          "outputs_hidden": false
        },
        "nteract": {
          "transient": {
            "deleting": false
          }
        },
        "microsoft": {
          "language": "scala"
        },
        "collapsed": false
      },
      "source": [
        "%%spark\r\n",
        "display(goldReadDF.orderBy(col(\"window.start\").desc))"
      ]
    }
  ],
  "metadata": {
    "save_output": false,
    "kernelspec": {
      "name": "synapse_pyspark",
      "display_name": "Synapse PySpark"
    },
    "language_info": {
      "name": "python"
    }
  }
}
