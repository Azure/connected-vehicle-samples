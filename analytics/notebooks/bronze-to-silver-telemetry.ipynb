{
  "nbformat": 4,
  "nbformat_minor": 2,
  "cells": [
    {
      "cell_type": "markdown",
      "metadata": {
        "application/vnd.databricks.v1+cell": {
          "title": "",
          "showTitle": false,
          "inputWidgets": {},
          "nuid": "e0a5598a-993a-4823-bd0a-1d25bd63bdc6"
        }
      },
      "source": [
        "# Send Data from Bronze Table to Silver Temeletry Table\n",
        "To run this notebook, import it into Azure Synapse and attach it to an Apache Spark Pool.      \n",
        "Choose the \"Small\" Node Size, and choose \"3\" as the Number of Nodes.     \n",
        "Be sure to run the \"rate-streaming-to-bronze\" Notebook beforehand, to ensure there is data to pull from."
      ]
    },
    {
      "cell_type": "code",
      "execution_count": null,
      "outputs": [],
      "metadata": {
        "application/vnd.databricks.v1+cell": {
          "title": "",
          "showTitle": false,
          "inputWidgets": {},
          "nuid": "9bc8e1a2-7a06-4c96-b12e-91f2b8ab9628"
        },
        "microsoft": {
          "language": "scala"
        }
      },
      "source": [
        "%%spark\n",
        "import org.apache.spark.sql.functions._\n",
        "import org.apache.spark.sql.types._"
      ]
    },
    {
      "cell_type": "markdown",
      "metadata": {
        "application/vnd.databricks.v1+cell": {
          "title": "",
          "showTitle": false,
          "inputWidgets": {},
          "nuid": "4aff32a6-92ce-4913-aa3e-0f636ff6eb70"
        }
      },
      "source": [
        "## Configure the Storage Account (to read from)\n",
        "Replace the value `<storageAccountName>` with the name of the storage account where the Bronze Delta Table data is stored.   "
      ]
    },
    {
      "cell_type": "code",
      "execution_count": null,
      "outputs": [],
      "metadata": {
        "application/vnd.databricks.v1+cell": {
          "title": "",
          "showTitle": false,
          "inputWidgets": {},
          "nuid": "ac8de88e-4cbc-419f-a049-c1adb2017c74"
        },
        "microsoft": {
          "language": "scala"
        }
      },
      "source": [
        "%%spark\n",
        "val storageAccountName = \"<storageAccountName>\"\n",
        "val bronzeDataLocation: String = \"abfss://datalake@\"+storageAccountName+\".dfs.core.windows.net/bronzeSynapse\"  \n",
        "val silverDataLocation: String = \"abfss://datalake@\"+storageAccountName+\".dfs.core.windows.net/silverSynapse/Telemetry\"  "
      ]
    },
    {
      "cell_type": "markdown",
      "metadata": {
        "application/vnd.databricks.v1+cell": {
          "title": "",
          "showTitle": false,
          "inputWidgets": {},
          "nuid": "31a46701-1047-43bc-8a49-792b4d996645"
        }
      },
      "source": [
        "## Read the Data\n",
        "Here the data is read from the `bronzeDataLocation` specified in the previous cell, which is configured using the value inputted for `storageAccount`."
      ]
    },
    {
      "cell_type": "code",
      "execution_count": null,
      "outputs": [],
      "metadata": {
        "application/vnd.databricks.v1+cell": {
          "title": "",
          "showTitle": false,
          "inputWidgets": {},
          "nuid": "020ebe55-5428-47a5-a425-54f75a77de92"
        },
        "microsoft": {
          "language": "scala"
        }
      },
      "source": [
        "%%spark\n",
        "var bronzeDF = spark.readStream.format(\"delta\").load(bronzeDataLocation)"
      ]
    },
    {
      "cell_type": "markdown",
      "metadata": {
        "application/vnd.databricks.v1+cell": {
          "title": "",
          "showTitle": false,
          "inputWidgets": {},
          "nuid": "5a733a3e-606e-41a2-81e9-76ee10c32994"
        }
      },
      "source": [
        "## Parse the Body and Split into Columns\n",
        "The schema of the Dataframe is configured to match the schema of the Silver Telemetery Table. The body is parsed and split into columns."
      ]
    },
    {
      "cell_type": "code",
      "execution_count": null,
      "outputs": [],
      "metadata": {
        "application/vnd.databricks.v1+cell": {
          "title": "",
          "showTitle": false,
          "inputWidgets": {},
          "nuid": "72caa6fb-dc14-48da-b693-cfcac8170af2"
        },
        "microsoft": {
          "language": "scala"
        }
      },
      "source": [
        "%%spark\n",
        "val silverSchema: StructType = new StructType().\n",
        "add(\"VehicleId\", StringType).\n",
        "add(\"EngineTemp\", IntegerType).\n",
        "add(\"BatteryVoltage\", DoubleType).\n",
        "add(\"DaysSinceLastServicing\", IntegerType).\n",
        "add(\"Mileage\", IntegerType)\n",
        "\n",
        "var silverDF = bronzeDF.where(\"Properties.topic == 'Telemetry'\")\n",
        "\n",
        "silverDF = silverDF.withColumn(\"Body\", col(\"Body\").cast(StringType)) // cast the \"body\" column to StringType\n",
        "silverDF = silverDF.withColumn(\"JsonBody\", get_json_object(col(\"Body\"), \"$\")) // extracts JSON object from the \"body\" column\n",
        "silverDF = silverDF.withColumn(\"SilverSchemaFields\", from_json(col(\"JsonBody\"), silverSchema)) // returns a struct value with the given JSON string and schema\n",
        "\n",
        "silverDF = silverDF.select(\n",
        "    col(\"ProcessedTimestamp\"),\n",
        "    col(\"ProcessedDate\"),\n",
        "    col(\"ProcessedHour\"),\n",
        "    col(\"UserId\"),\n",
        "    col(\"Properties\"),\n",
        "    col(\"SilverSchemaFields.*\")\n",
        ")\n",
        "\n",
        "silverDF = silverDF.drop(\"Body\")\n",
        "silverDF = silverDF.drop(\"JsonBody\")\n",
        "silverDF = silverDF.drop(\"SilverSchemaFields\")\n",
        "\n",
        "silverDF.printSchema()"
      ]
    },
    {
      "cell_type": "markdown",
      "metadata": {
        "application/vnd.databricks.v1+cell": {
          "title": "",
          "showTitle": false,
          "inputWidgets": {},
          "nuid": "548a6c52-9503-40cd-8ce5-c58aec9a080c"
        }
      },
      "source": [
        "## Write Data to Silver Telemetry Table"
      ]
    },
    {
      "cell_type": "code",
      "execution_count": null,
      "outputs": [],
      "metadata": {
        "application/vnd.databricks.v1+cell": {
          "title": "",
          "showTitle": false,
          "inputWidgets": {},
          "nuid": "822c9e8e-0ba3-4ec9-81d8-98a36802c03b"
        },
        "microsoft": {
          "language": "scala"
        }
      },
      "source": [
        "%%spark\n",
        "var silverTelemetryQuery = silverDF.writeStream.format(\"delta\").\n",
        "outputMode(\"append\").\n",
        "partitionBy(\"ProcessedDate\", \"ProcessedHour\").\n",
        "option(\"checkpointLocation\", silverDataLocation + \"/checkpoint\").\n",
        "start(silverDataLocation)"
      ]
    },
    {
      "cell_type": "markdown",
      "metadata": {
        "application/vnd.databricks.v1+cell": {
          "title": "",
          "showTitle": false,
          "inputWidgets": {},
          "nuid": "9eda62b5-77e0-4f5e-872a-f48e49b7d6f0"
        }
      },
      "source": [
        "## Viewing the Data"
      ]
    },
    {
      "cell_type": "code",
      "execution_count": null,
      "outputs": [],
      "metadata": {
        "application/vnd.databricks.v1+cell": {
          "title": "",
          "showTitle": false,
          "inputWidgets": {},
          "nuid": "ac9eb791-0292-4f02-93ed-8be244b549ac"
        },
        "microsoft": {
          "language": "scala"
        }
      },
      "source": [
        "%%spark\n",
        "var silverViewDF = spark.read.format(\"delta\").load(silverDataLocation)\n",
        "silverViewDF.orderBy(col(\"ProcessedTimestamp\").desc).show()"
      ]
    },
    {
      "cell_type": "code",
      "execution_count": null,
      "outputs": [],
      "metadata": {
        "application/vnd.databricks.v1+cell": {
          "title": "",
          "showTitle": false,
          "inputWidgets": {},
          "nuid": "b5cca299-4acb-4c65-bfe8-8221621118f4"
        },
        "microsoft": {
          "language": "scala"
        }
      },
      "source": [
        "%%spark\n",
        "silverViewDF.printSchema()"
      ]
    },
    {
      "cell_type": "code",
      "execution_count": null,
      "outputs": [],
      "metadata": {
        "microsoft": {
          "language": "scala"
        },
        "collapsed": false,
        "diagram": {
          "activateDiagramType": 2,
          "chartConfig": {
            "category": "scatter",
            "keys": [
              "ProcessedTimestamp"
            ],
            "values": [
              "BatteryVoltage"
            ],
            "yLabel": "BatteryVoltage",
            "xLabel": "ProcessedTimestamp",
            "aggregation": "SUM",
            "aggByBackend": false,
            "isValid": true,
            "inValidMsg": null
          },
          "aggData": "{\"BatteryVoltage\":{\"2021-05-26T21:58:36.870Z\":16.6,\"2021-05-26T21:58:37.870Z\":16.7,\"2021-05-26T21:58:38.870Z\":16.8,\"2021-05-26T21:58:39.870Z\":16.9,\"2021-05-26T21:58:40.870Z\":17,\"2021-05-26T21:58:41.870Z\":17.1,\"2021-05-26T21:58:42.870Z\":17.2,\"2021-05-26T21:58:43.870Z\":17.3,\"2021-05-26T21:58:44.870Z\":17.4,\"2021-05-26T21:58:45.870Z\":17.5,\"2021-05-26T21:58:46.870Z\":17.6,\"2021-05-26T21:58:47.870Z\":17.7,\"2021-05-26T21:58:48.870Z\":17.8,\"2021-05-26T21:58:49.870Z\":17.9,\"2021-05-26T21:58:50.870Z\":16,\"2021-05-26T21:58:51.870Z\":16.1,\"2021-05-26T21:58:52.870Z\":16.2,\"2021-05-26T21:58:53.870Z\":16.3,\"2021-05-26T21:58:54.870Z\":16.4,\"2021-05-26T21:58:55.870Z\":16.5,\"2021-05-26T21:58:56.870Z\":16.6,\"2021-05-26T21:58:57.870Z\":16.7,\"2021-05-26T21:58:58.870Z\":16.8,\"2021-05-26T21:58:59.870Z\":16.9,\"2021-05-26T21:59:00.870Z\":17,\"2021-05-26T21:59:01.870Z\":17.1,\"2021-05-26T21:59:02.870Z\":17.2,\"2021-05-26T21:59:03.870Z\":17.3,\"2021-05-26T21:59:04.870Z\":17.4,\"2021-05-26T21:59:05.870Z\":17.5,\"2021-05-26T21:59:06.870Z\":17.6,\"2021-05-26T21:59:07.870Z\":17.7,\"2021-05-26T21:59:08.870Z\":17.8,\"2021-05-26T21:59:09.870Z\":17.9,\"2021-05-26T21:59:10.870Z\":16,\"2021-05-26T21:59:11.870Z\":16.1,\"2021-05-26T21:59:12.870Z\":16.2,\"2021-05-26T21:59:13.870Z\":16.3,\"2021-05-26T21:59:14.870Z\":16.4,\"2021-05-26T21:59:15.870Z\":16.5,\"2021-05-26T21:59:16.870Z\":16.6,\"2021-05-26T21:59:17.870Z\":16.7,\"2021-05-26T21:59:18.870Z\":16.8,\"2021-05-26T21:59:19.870Z\":16.9,\"2021-05-26T21:59:20.870Z\":17,\"2021-05-26T21:59:21.870Z\":17.1,\"2021-05-26T21:59:22.870Z\":17.2,\"2021-05-26T21:59:23.870Z\":17.3,\"2021-05-26T21:59:24.870Z\":17.4,\"2021-05-26T21:59:25.870Z\":17.5,\"2021-05-26T21:59:26.870Z\":17.6,\"2021-05-26T21:59:27.870Z\":17.7,\"2021-05-26T21:59:28.870Z\":17.8,\"2021-05-26T21:59:29.870Z\":17.9,\"2021-05-26T21:59:30.870Z\":16,\"2021-05-26T21:59:31.870Z\":16.1,\"2021-05-26T21:59:32.870Z\":16.2,\"2021-05-26T21:59:33.870Z\":16.3,\"2021-05-26T21:59:34.870Z\":16.4,\"2021-05-26T21:59:35.870Z\":16.5,\"2021-05-26T21:59:36.870Z\":16.6,\"2021-05-26T21:59:37.870Z\":16.7,\"2021-05-26T21:59:38.870Z\":16.8,\"2021-05-26T21:59:39.870Z\":16.9,\"2021-05-26T21:59:40.870Z\":17,\"2021-05-26T21:59:41.870Z\":17.1,\"2021-05-26T21:59:42.870Z\":17.2,\"2021-05-26T21:59:43.870Z\":17.3,\"2021-05-26T21:59:44.870Z\":17.4,\"2021-05-26T21:59:45.870Z\":17.5,\"2021-05-26T21:59:46.870Z\":17.6,\"2021-05-26T21:59:47.870Z\":17.7,\"2021-05-26T21:59:48.870Z\":17.8,\"2021-05-26T21:59:49.870Z\":17.9,\"2021-05-26T21:59:50.870Z\":16,\"2021-05-26T21:59:51.870Z\":16.1,\"2021-05-26T21:59:52.870Z\":16.2,\"2021-05-26T21:59:53.870Z\":16.3,\"2021-05-26T21:59:54.870Z\":16.4,\"2021-05-26T21:59:55.870Z\":16.5,\"2021-05-26T21:59:56.870Z\":16.6,\"2021-05-26T21:59:57.870Z\":16.7,\"2021-05-26T21:59:58.870Z\":16.8,\"2021-05-26T21:59:59.870Z\":16.9,\"2021-05-26T22:00:00.870Z\":17,\"2021-05-26T22:00:01.870Z\":17.1,\"2021-05-26T22:00:02.870Z\":17.2,\"2021-05-26T22:00:03.870Z\":17.3,\"2021-05-26T22:00:04.870Z\":17.4,\"2021-05-26T22:00:05.870Z\":17.5,\"2021-05-26T22:00:06.870Z\":17.6,\"2021-05-26T22:00:07.870Z\":17.7,\"2021-05-26T22:00:08.870Z\":17.8,\"2021-05-26T22:00:09.870Z\":17.9,\"2021-05-26T22:00:10.870Z\":16,\"2021-05-26T22:00:11.870Z\":16.1,\"2021-05-26T22:00:12.870Z\":16.2,\"2021-05-26T22:00:13.870Z\":16.3,\"2021-05-26T22:00:14.870Z\":16.4,\"2021-05-26T22:00:15.870Z\":16.5,\"2021-05-26T22:00:16.870Z\":16.6,\"2021-05-26T22:00:17.870Z\":16.7,\"2021-05-26T22:00:18.870Z\":16.8,\"2021-05-26T22:00:19.870Z\":16.9,\"2021-05-26T22:00:20.870Z\":17,\"2021-05-26T22:00:21.870Z\":17.1,\"2021-05-26T22:00:22.870Z\":17.2,\"2021-05-26T22:00:23.870Z\":17.3,\"2021-05-26T22:00:24.870Z\":17.4,\"2021-05-26T22:00:25.870Z\":17.5,\"2021-05-26T22:00:26.870Z\":17.6,\"2021-05-26T22:00:27.870Z\":17.7,\"2021-05-26T22:00:28.870Z\":17.8,\"2021-05-26T22:00:29.870Z\":17.9,\"2021-05-26T22:00:30.870Z\":16,\"2021-05-26T22:00:31.870Z\":16.1,\"2021-05-26T22:00:32.870Z\":16.2,\"2021-05-26T22:00:33.870Z\":16.3,\"2021-05-26T22:00:34.870Z\":16.4,\"2021-05-26T22:00:35.870Z\":16.5,\"2021-05-26T22:00:36.870Z\":16.6,\"2021-05-26T22:00:37.870Z\":16.7,\"2021-05-26T22:00:38.870Z\":16.8,\"2021-05-26T22:00:39.870Z\":16.9,\"2021-05-26T22:00:40.870Z\":17,\"2021-05-26T22:00:41.870Z\":17.1,\"2021-05-26T22:00:42.870Z\":17.2,\"2021-05-26T22:00:43.870Z\":17.3,\"2021-05-26T22:00:44.870Z\":17.4,\"2021-05-26T22:00:45.870Z\":17.5,\"2021-05-26T22:00:46.870Z\":17.6,\"2021-05-26T22:00:47.870Z\":17.7,\"2021-05-26T22:00:48.870Z\":17.8,\"2021-05-26T22:00:49.870Z\":17.9,\"2021-05-26T22:00:50.870Z\":16,\"2021-05-26T22:00:51.870Z\":16.1,\"2021-05-26T22:00:52.870Z\":16.2,\"2021-05-26T22:00:53.870Z\":16.3,\"2021-05-26T22:00:54.870Z\":16.4,\"2021-05-26T22:00:55.870Z\":16.5}}",
          "isSummary": false,
          "previewData": {
            "filter": null
          },
          "isSql": false
        }
      },
      "source": [
        "%%spark\n",
        "display(silverViewDF.orderBy(col(\"ProcessedTimestamp\").desc))"
      ]
    }
  ],
  "metadata": {
    "save_output": false,
    "kernelspec": {
      "name": "synapse_pyspark",
      "display_name": "Synapse PySpark"
    },
    "language_info": {
      "name": "python"
    }
  }
}