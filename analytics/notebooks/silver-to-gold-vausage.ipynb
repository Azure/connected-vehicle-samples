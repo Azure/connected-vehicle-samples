{
  "cells": [
    {
      "cell_type": "markdown",
      "source": [
        "# Read Data from Silver VAUsage Table and Write to Gold VAUsage Action Counts Table\n",
        "To run this notebook, import it into Azure Synapse and attach it to an Apache Spark Pool.      \n",
        "Choose the \"Small\" Node Size, and choose \"3\" as the Number of Nodes.     \n",
        "Be sure to run the \"rate-streaming-to-bronze\" Notebook and the \"bronze-to-silver-vausage\" Notebook beforehand."
      ],
      "metadata": {
        "application/vnd.databricks.v1+cell": {
          "title": "",
          "showTitle": false,
          "inputWidgets": {},
          "nuid": "e0a5598a-993a-4823-bd0a-1d25bd63bdc6"
        }
      }
    },
    {
      "cell_type": "code",
      "source": [
        "%%spark\n",
        "import org.apache.spark.sql.functions._\n",
        "import org.apache.spark.sql.types._"
      ],
      "outputs": [],
      "execution_count": null,
      "metadata": {
        "application/vnd.databricks.v1+cell": {
          "title": "",
          "showTitle": false,
          "inputWidgets": {},
          "nuid": "9bc8e1a2-7a06-4c96-b12e-91f2b8ab9628"
        },
        "microsoft": {
          "language": "scala"
        }
      }
    },
    {
      "cell_type": "markdown",
      "source": [
        "## Configure the Storage Account (to read from)\n",
        "Replace the value `<storageAccountName>` with the name of the storage account where the Silver Telemetry Table data is stored.   "
      ],
      "metadata": {
        "application/vnd.databricks.v1+cell": {
          "title": "",
          "showTitle": false,
          "inputWidgets": {},
          "nuid": "4aff32a6-92ce-4913-aa3e-0f636ff6eb70"
        }
      }
    },
    {
      "cell_type": "code",
      "source": [
        "%%spark\n",
        "val storageAccountName = \"<storageAccountName>\"\n",
        "val silverDataLocation: String = \"abfss://datalake@\"+storageAccountName+\".dfs.core.windows.net/silverSynapse/VAUsage\"  \n",
        "val goldDataLocation : String = \"abfss://datalake@\"+storageAccountName+\".dfs.core.windows.net/goldSynapse/VAUsageActionCounts\"  "
      ],
      "outputs": [],
      "execution_count": null,
      "metadata": {
        "application/vnd.databricks.v1+cell": {
          "title": "",
          "showTitle": false,
          "inputWidgets": {},
          "nuid": "ac8de88e-4cbc-419f-a049-c1adb2017c74"
        },
        "microsoft": {
          "language": "scala"
        }
      }
    },
    {
      "cell_type": "markdown",
      "source": [
        "## Read the Data\n",
        "Here the data is read from the `silverDataLocation` specified in the previous cell, which is configured using the value inputted for `storageAccount`."
      ],
      "metadata": {
        "application/vnd.databricks.v1+cell": {
          "title": "",
          "showTitle": false,
          "inputWidgets": {},
          "nuid": "31a46701-1047-43bc-8a49-792b4d996645"
        }
      }
    },
    {
      "cell_type": "code",
      "source": [
        "%%spark\n",
        "var silverDF = spark.readStream.format(\"delta\").load(silverDataLocation)"
      ],
      "outputs": [],
      "execution_count": null,
      "metadata": {
        "application/vnd.databricks.v1+cell": {
          "title": "",
          "showTitle": false,
          "inputWidgets": {},
          "nuid": "020ebe55-5428-47a5-a425-54f75a77de92"
        },
        "microsoft": {
          "language": "scala"
        }
      }
    },
    {
      "cell_type": "markdown",
      "source": [
        "## Configure the Schema of the Data\n",
        "The schema of the Dataframe is configured to match the schema of the Gold VAUSage Action Counts Table."
      ],
      "metadata": {
        "application/vnd.databricks.v1+cell": {
          "title": "",
          "showTitle": false,
          "inputWidgets": {},
          "nuid": "5a733a3e-606e-41a2-81e9-76ee10c32994"
        }
      }
    },
    {
      "cell_type": "code",
      "source": [
        "%%spark\n",
        "var goldDF = silverDF.withWatermark(\"ProcessedTimestamp\", \"10 second\").groupBy(\n",
        "    window(col(\"ProcessedTimestamp\"), \"10 seconds\", \"10 second\"),\n",
        "    col(\"Object\"),\n",
        "    col(\"Action\")\n",
        "  ).count().withColumn(\"WindowStartDate\", to_date(col(\"window\").getItem(\"start\")))\n",
        "\n",
        "goldDF.printSchema()"
      ],
      "outputs": [],
      "execution_count": null,
      "metadata": {
        "application/vnd.databricks.v1+cell": {
          "title": "",
          "showTitle": false,
          "inputWidgets": {},
          "nuid": "72caa6fb-dc14-48da-b693-cfcac8170af2"
        },
        "microsoft": {
          "language": "scala"
        }
      }
    },
    {
      "cell_type": "markdown",
      "source": [
        "## Write Data to Gold VAUSage Action Counts Table"
      ],
      "metadata": {
        "application/vnd.databricks.v1+cell": {
          "title": "",
          "showTitle": false,
          "inputWidgets": {},
          "nuid": "548a6c52-9503-40cd-8ce5-c58aec9a080c"
        }
      }
    },
    {
      "cell_type": "code",
      "source": [
        "%%spark\n",
        "val goldVAUsageQuery = goldDF.writeStream.format(\"delta\").\n",
        "outputMode(\"append\").\n",
        "partitionBy(\"WindowStartDate\").\n",
        "option(\"checkpointLocation\", goldDataLocation + \"/checkpoint\").\n",
        "start(goldDataLocation) "
      ],
      "outputs": [],
      "execution_count": null,
      "metadata": {
        "application/vnd.databricks.v1+cell": {
          "title": "",
          "showTitle": false,
          "inputWidgets": {},
          "nuid": "822c9e8e-0ba3-4ec9-81d8-98a36802c03b"
        },
        "microsoft": {
          "language": "scala"
        }
      }
    },
    {
      "cell_type": "markdown",
      "source": [
        "## View the Data"
      ],
      "metadata": {
        "application/vnd.databricks.v1+cell": {
          "title": "",
          "showTitle": false,
          "inputWidgets": {},
          "nuid": "b0abcb12-18c8-4624-99a7-a72e8cf06bff"
        }
      }
    },
    {
      "cell_type": "code",
      "source": [
        "%%spark\n",
        "var goldViewDF = spark.read.format(\"delta\").load(goldDataLocation)\n",
        "goldViewDF.orderBy(col(\"window.start\").desc).show()"
      ],
      "outputs": [],
      "execution_count": null,
      "metadata": {
        "application/vnd.databricks.v1+cell": {
          "title": "",
          "showTitle": false,
          "inputWidgets": {},
          "nuid": "4e74e1ce-d2de-4ab6-92a7-a51d4821485d"
        },
        "microsoft": {
          "language": "scala"
        }
      }
    },
    {
      "cell_type": "code",
      "source": [
        "%%spark\n",
        "goldViewDF.printSchema()"
      ],
      "outputs": [],
      "execution_count": null,
      "metadata": {
        "application/vnd.databricks.v1+cell": {
          "title": "",
          "showTitle": false,
          "inputWidgets": {},
          "nuid": "20ff21c0-5e37-4535-898c-a044738563e7"
        },
        "microsoft": {
          "language": "scala"
        }
      }
    },
    {
      "cell_type": "code",
      "source": [
        "%%spark\n",
        "display(goldViewDF.orderBy(col(\"window.start\").desc))"
      ],
      "outputs": [],
      "execution_count": null,
      "metadata": {
        "diagram": {
          "activateDiagramType": 1,
          "chartConfig": {
            "category": "bar",
            "keys": [],
            "values": [],
            "yLabel": "",
            "xLabel": "",
            "aggregation": "SUM",
            "aggByBackend": false
          },
          "aggData": "{}",
          "isSummary": false,
          "previewData": {
            "filter": null
          },
          "isSql": false
        },
        "microsoft": {
          "language": "scala"
        },
        "collapsed": false
      }
    }
  ],
  "metadata": {
    "kernelspec": {
      "name": "synapse_spark",
      "language": "Scala",
      "display_name": "Synapse Spark"
    },
    "language_info": {
      "name": "scala"
    },
    "kernel_info": {
      "name": "synapse_spark"
    },
    "save_output": true,
    "synapse_widget": {
      "version": "0.1",
      "state": {}
    }
  },
  "nbformat": 4,
  "nbformat_minor": 2
}
